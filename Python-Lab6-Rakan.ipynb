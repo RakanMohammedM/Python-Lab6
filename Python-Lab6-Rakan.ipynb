{
 "cells": [
  {
   "cell_type": "code",
   "execution_count": 1,
   "id": "02973969",
   "metadata": {},
   "outputs": [
    {
     "name": "stdout",
     "output_type": "stream",
     "text": [
      "Enter a phone number? 6666666666\n",
      "The owner's name is Faisal\n"
     ]
    }
   ],
   "source": [
    "dict_book = {       \n",
    "        \"Amal\":1111111111,\n",
    "        \"Mohammed\":2222222222,\n",
    "        \"Khadijah\":3333333333,\n",
    "        \"Abdullah\":4444444444,\n",
    "        \"Rawan\":5555555555,\n",
    "        \"Faisal\":6666666666,\n",
    "        \"Layla\":7777777777 \n",
    "}\n",
    "\n",
    "def phoneBook(num):\n",
    "    for key, value in dict_book.items():\n",
    "        if int(num) == value:\n",
    "            phoneBookName = \"The owner's name is \" + key\n",
    "            break\n",
    "        else:\n",
    "            phoneBookName = \"Sorry, the number is not found\"\n",
    "    return phoneBookName\n",
    "number = input(\"Enter a phone number? \")\n",
    "\n",
    "if len(number) == 10 and number.isdigit():\n",
    "    print(phoneBook(number))\n",
    "else:\n",
    "    print(\"This is invalid number\")\n",
    "    "
   ]
  },
  {
   "cell_type": "markdown",
   "id": "7b1b1fe5",
   "metadata": {},
   "source": [
    "#### P.S\n",
    "\n",
    "> At first I thought of using **Try and except** but the `conditional statement in step 3` would be useless. So, I decided to combine step 2 and step 3 in a single conditional statement."
   ]
  }
 ],
 "metadata": {
  "kernelspec": {
   "display_name": "Python 3 (ipykernel)",
   "language": "python",
   "name": "python3"
  },
  "language_info": {
   "codemirror_mode": {
    "name": "ipython",
    "version": 3
   },
   "file_extension": ".py",
   "mimetype": "text/x-python",
   "name": "python",
   "nbconvert_exporter": "python",
   "pygments_lexer": "ipython3",
   "version": "3.11.3"
  }
 },
 "nbformat": 4,
 "nbformat_minor": 5
}
